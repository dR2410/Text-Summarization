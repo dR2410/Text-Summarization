{
 "cells": [
  {
   "cell_type": "markdown",
   "metadata": {
    "id": "Q54fR7jBV-fX"
   },
   "source": [
    "## TEAM 13\n",
    "Rahul Namadev Chavan : CB.EN.P2DSC21021                                            \n",
    "Vinayak M : CB.EN.P2DSC21029"
   ]
  },
  {
   "cell_type": "markdown",
   "metadata": {
    "id": "GDZVY29RV-fi"
   },
   "source": [
    "## TEXT SUMMARIZATION\n",
    "### There are 2 types :- 1] Extractive and 2]Abstractive\n",
    "* In Extractive we identify the important sentences or phrases from the original text and extract only those from the text.\n",
    "* In Abstractive the sentences generated through this method might not be present in the original text"
   ]
  },
  {
   "cell_type": "code",
   "execution_count": null,
   "metadata": {
    "id": "ug4gJSda71wA"
   },
   "outputs": [],
   "source": [
    "#Here we have loaded all the library which are needed\n",
    "from attention import AttentionLayer\n",
    "import numpy as np\n",
    "import pandas as pd \n",
    "import re\n",
    "from bs4 import BeautifulSoup\n",
    "from keras.preprocessing.text import Tokenizer \n",
    "from keras.preprocessing.sequence import pad_sequences\n",
    "from nltk.corpus import stopwords\n",
    "from tensorflow.keras.layers import Input, LSTM, Embedding, Dense, Concatenate, TimeDistributed,Bidirectional\n",
    "from tensorflow.keras.layers import LSTM, Bidirectional, Dense, Embedding, TimeDistributed\n",
    "from tensorflow.keras.models import Model\n",
    "from tensorflow.keras.callbacks import EarlyStopping\n",
    "import warnings\n",
    "pd.set_option(\"display.max_colwidth\", 200)\n",
    "warnings.filterwarnings(\"ignore\")"
   ]
  },
  {
   "cell_type": "markdown",
   "metadata": {
    "id": "4Eotkc3-8InU"
   },
   "source": [
    "# Loading the dataset"
   ]
  },
  {
   "cell_type": "markdown",
   "metadata": {
    "id": "RVY6CHAj8Ik7"
   },
   "source": [
    "The dataset is called amazon review dataset, that contains 50K+ reviews and summaries of the reviews along with other features like rating, contact information, etc."
   ]
  },
  {
   "cell_type": "code",
   "execution_count": null,
   "metadata": {
    "colab": {
     "base_uri": "https://localhost:8080/",
     "height": 425
    },
    "id": "vRsQ-TQr8PU0",
    "outputId": "c6e00384-fefa-4395-b546-b3ed1c4ad4c1"
   },
   "outputs": [
    {
     "data": {
      "text/html": [
       "<div>\n",
       "<style scoped>\n",
       "    .dataframe tbody tr th:only-of-type {\n",
       "        vertical-align: middle;\n",
       "    }\n",
       "\n",
       "    .dataframe tbody tr th {\n",
       "        vertical-align: top;\n",
       "    }\n",
       "\n",
       "    .dataframe thead th {\n",
       "        text-align: right;\n",
       "    }\n",
       "</style>\n",
       "<table border=\"1\" class=\"dataframe\">\n",
       "  <thead>\n",
       "    <tr style=\"text-align: right;\">\n",
       "      <th></th>\n",
       "      <th>Id</th>\n",
       "      <th>ProductId</th>\n",
       "      <th>UserId</th>\n",
       "      <th>ProfileName</th>\n",
       "      <th>HelpfulnessNumerator</th>\n",
       "      <th>HelpfulnessDenominator</th>\n",
       "      <th>Score</th>\n",
       "      <th>Time</th>\n",
       "      <th>Summary</th>\n",
       "      <th>Text</th>\n",
       "    </tr>\n",
       "  </thead>\n",
       "  <tbody>\n",
       "    <tr>\n",
       "      <th>0</th>\n",
       "      <td>1</td>\n",
       "      <td>B001E4KFG0</td>\n",
       "      <td>A3SGXH7AUHU8GW</td>\n",
       "      <td>delmartian</td>\n",
       "      <td>1</td>\n",
       "      <td>1</td>\n",
       "      <td>5</td>\n",
       "      <td>1303862400</td>\n",
       "      <td>Good Quality Dog Food</td>\n",
       "      <td>I have bought several of the Vitality canned dog food products and have found them all to be of good quality. The product looks more like a stew than a processed meat and it smells better. My Labr...</td>\n",
       "    </tr>\n",
       "    <tr>\n",
       "      <th>1</th>\n",
       "      <td>2</td>\n",
       "      <td>B00813GRG4</td>\n",
       "      <td>A1D87F6ZCVE5NK</td>\n",
       "      <td>dll pa</td>\n",
       "      <td>0</td>\n",
       "      <td>0</td>\n",
       "      <td>1</td>\n",
       "      <td>1346976000</td>\n",
       "      <td>Not as Advertised</td>\n",
       "      <td>Product arrived labeled as Jumbo Salted Peanuts...the peanuts were actually small sized unsalted. Not sure if this was an error or if the vendor intended to represent the product as \"Jumbo\".</td>\n",
       "    </tr>\n",
       "    <tr>\n",
       "      <th>2</th>\n",
       "      <td>3</td>\n",
       "      <td>B000LQOCH0</td>\n",
       "      <td>ABXLMWJIXXAIN</td>\n",
       "      <td>Natalia Corres \"Natalia Corres\"</td>\n",
       "      <td>1</td>\n",
       "      <td>1</td>\n",
       "      <td>4</td>\n",
       "      <td>1219017600</td>\n",
       "      <td>\"Delight\" says it all</td>\n",
       "      <td>This is a confection that has been around a few centuries.  It is a light, pillowy citrus gelatin with nuts - in this case Filberts. And it is cut into tiny squares and then liberally coated with ...</td>\n",
       "    </tr>\n",
       "    <tr>\n",
       "      <th>3</th>\n",
       "      <td>4</td>\n",
       "      <td>B000UA0QIQ</td>\n",
       "      <td>A395BORC6FGVXV</td>\n",
       "      <td>Karl</td>\n",
       "      <td>3</td>\n",
       "      <td>3</td>\n",
       "      <td>2</td>\n",
       "      <td>1307923200</td>\n",
       "      <td>Cough Medicine</td>\n",
       "      <td>If you are looking for the secret ingredient in Robitussin I believe I have found it.  I got this in addition to the Root Beer Extract I ordered (which was good) and made some cherry soda.  The fl...</td>\n",
       "    </tr>\n",
       "    <tr>\n",
       "      <th>4</th>\n",
       "      <td>5</td>\n",
       "      <td>B006K2ZZ7K</td>\n",
       "      <td>A1UQRSCLF8GW1T</td>\n",
       "      <td>Michael D. Bigham \"M. Wassir\"</td>\n",
       "      <td>0</td>\n",
       "      <td>0</td>\n",
       "      <td>5</td>\n",
       "      <td>1350777600</td>\n",
       "      <td>Great taffy</td>\n",
       "      <td>Great taffy at a great price.  There was a wide assortment of yummy taffy.  Delivery was very quick.  If your a taffy lover, this is a deal.</td>\n",
       "    </tr>\n",
       "  </tbody>\n",
       "</table>\n",
       "</div>"
      ],
      "text/plain": [
       "   Id   ProductId          UserId                      ProfileName  \\\n",
       "0   1  B001E4KFG0  A3SGXH7AUHU8GW                       delmartian   \n",
       "1   2  B00813GRG4  A1D87F6ZCVE5NK                           dll pa   \n",
       "2   3  B000LQOCH0   ABXLMWJIXXAIN  Natalia Corres \"Natalia Corres\"   \n",
       "3   4  B000UA0QIQ  A395BORC6FGVXV                             Karl   \n",
       "4   5  B006K2ZZ7K  A1UQRSCLF8GW1T    Michael D. Bigham \"M. Wassir\"   \n",
       "\n",
       "   HelpfulnessNumerator  HelpfulnessDenominator  Score        Time  \\\n",
       "0                     1                       1      5  1303862400   \n",
       "1                     0                       0      1  1346976000   \n",
       "2                     1                       1      4  1219017600   \n",
       "3                     3                       3      2  1307923200   \n",
       "4                     0                       0      5  1350777600   \n",
       "\n",
       "                 Summary  \\\n",
       "0  Good Quality Dog Food   \n",
       "1      Not as Advertised   \n",
       "2  \"Delight\" says it all   \n",
       "3         Cough Medicine   \n",
       "4            Great taffy   \n",
       "\n",
       "                                                                                                                                                                                                      Text  \n",
       "0  I have bought several of the Vitality canned dog food products and have found them all to be of good quality. The product looks more like a stew than a processed meat and it smells better. My Labr...  \n",
       "1           Product arrived labeled as Jumbo Salted Peanuts...the peanuts were actually small sized unsalted. Not sure if this was an error or if the vendor intended to represent the product as \"Jumbo\".  \n",
       "2  This is a confection that has been around a few centuries.  It is a light, pillowy citrus gelatin with nuts - in this case Filberts. And it is cut into tiny squares and then liberally coated with ...  \n",
       "3  If you are looking for the secret ingredient in Robitussin I believe I have found it.  I got this in addition to the Root Beer Extract I ordered (which was good) and made some cherry soda.  The fl...  \n",
       "4                                                             Great taffy at a great price.  There was a wide assortment of yummy taffy.  Delivery was very quick.  If your a taffy lover, this is a deal.  "
      ]
     },
     "execution_count": 2,
     "metadata": {},
     "output_type": "execute_result"
    }
   ],
   "source": [
    "data=pd.read_csv(\"Reviews.csv\")\n",
    "data.head()"
   ]
  },
  {
   "cell_type": "markdown",
   "metadata": {
    "id": "q0_C54LP8Tn8"
   },
   "source": [
    "## Drop Duplicates and NA values"
   ]
  },
  {
   "cell_type": "code",
   "execution_count": null,
   "metadata": {
    "id": "L1cdwTnJ8R27"
   },
   "outputs": [],
   "source": [
    "data.drop_duplicates(subset=['Text'],inplace=True)#dropping duplicates\n",
    "data.dropna(axis=0,inplace=True)#dropping na"
   ]
  },
  {
   "cell_type": "markdown",
   "metadata": {
    "id": "QaLNvNdC8Ys2"
   },
   "source": [
    "## Information about dataset\n",
    "\n",
    "Let us look at datatypes and shape of the dataset"
   ]
  },
  {
   "cell_type": "code",
   "execution_count": null,
   "metadata": {
    "colab": {
     "base_uri": "https://localhost:8080/"
    },
    "id": "leBKHAU28QZV",
    "outputId": "f00bc34e-81d9-4bfe-c90f-aa86aa3379d8"
   },
   "outputs": [
    {
     "name": "stdout",
     "output_type": "stream",
     "text": [
      "<class 'pandas.core.frame.DataFrame'>\n",
      "Int64Index: 393565 entries, 0 to 568453\n",
      "Data columns (total 10 columns):\n",
      " #   Column                  Non-Null Count   Dtype \n",
      "---  ------                  --------------   ----- \n",
      " 0   Id                      393565 non-null  int64 \n",
      " 1   ProductId               393565 non-null  object\n",
      " 2   UserId                  393565 non-null  object\n",
      " 3   ProfileName             393565 non-null  object\n",
      " 4   HelpfulnessNumerator    393565 non-null  int64 \n",
      " 5   HelpfulnessDenominator  393565 non-null  int64 \n",
      " 6   Score                   393565 non-null  int64 \n",
      " 7   Time                    393565 non-null  int64 \n",
      " 8   Summary                 393565 non-null  object\n",
      " 9   Text                    393565 non-null  object\n",
      "dtypes: int64(5), object(5)\n",
      "memory usage: 33.0+ MB\n"
     ]
    }
   ],
   "source": [
    "data.info()"
   ]
  },
  {
   "cell_type": "markdown",
   "metadata": {
    "id": "Dd-eDnYK8csR"
   },
   "source": [
    "# Preprocessing and cleaning the data"
   ]
  },
  {
   "cell_type": "markdown",
   "metadata": {
    "id": "v7RfMv3Z8gBA"
   },
   "source": [
    "The first step of pereprocessing is removing unnecesary shortforms. We use a dictionary called contraction_mapping for the purpose of expanding these contractions."
   ]
  },
  {
   "cell_type": "code",
   "execution_count": null,
   "metadata": {
    "id": "uRGwfx1q8al8"
   },
   "outputs": [],
   "source": [
    "contraction_mapping = {\"ain't\": \"is not\", \"aren't\": \"are not\",\"can't\": \"cannot\", \"'cause\": \"because\", \"could've\": \"could have\", \"couldn't\": \"could not\",\n",
    "                           \"didn't\": \"did not\",  \"doesn't\": \"does not\", \"don't\": \"do not\", \"hadn't\": \"had not\", \"hasn't\": \"has not\", \"haven't\": \"have not\",\n",
    "                           \"he'd\": \"he would\",\"he'll\": \"he will\", \"he's\": \"he is\", \"how'd\": \"how did\", \"how'd'y\": \"how do you\", \"how'll\": \"how will\", \"how's\": \"how is\",\n",
    "                           \"I'd\": \"I would\", \"I'd've\": \"I would have\", \"I'll\": \"I will\", \"I'll've\": \"I will have\",\"I'm\": \"I am\", \"I've\": \"I have\", \"i'd\": \"i would\",\n",
    "                           \"i'd've\": \"i would have\", \"i'll\": \"i will\",  \"i'll've\": \"i will have\",\"i'm\": \"i am\", \"i've\": \"i have\", \"isn't\": \"is not\", \"it'd\": \"it would\",\n",
    "                           \"it'd've\": \"it would have\", \"it'll\": \"it will\", \"it'll've\": \"it will have\",\"it's\": \"it is\", \"let's\": \"let us\", \"ma'am\": \"madam\",\n",
    "                           \"mayn't\": \"may not\", \"might've\": \"might have\",\"mightn't\": \"might not\",\"mightn't've\": \"might not have\", \"must've\": \"must have\",\n",
    "                           \"mustn't\": \"must not\", \"mustn't've\": \"must not have\", \"needn't\": \"need not\", \"needn't've\": \"need not have\",\"o'clock\": \"of the clock\",\n",
    "                           \"oughtn't\": \"ought not\", \"oughtn't've\": \"ought not have\", \"shan't\": \"shall not\", \"sha'n't\": \"shall not\", \"shan't've\": \"shall not have\",\n",
    "                           \"she'd\": \"she would\", \"she'd've\": \"she would have\", \"she'll\": \"she will\", \"she'll've\": \"she will have\", \"she's\": \"she is\",\n",
    "                           \"should've\": \"should have\", \"shouldn't\": \"should not\", \"shouldn't've\": \"should not have\", \"so've\": \"so have\",\"so's\": \"so as\",\n",
    "                           \"this's\": \"this is\",\"that'd\": \"that would\", \"that'd've\": \"that would have\", \"that's\": \"that is\", \"there'd\": \"there would\",\n",
    "                           \"there'd've\": \"there would have\", \"there's\": \"there is\", \"here's\": \"here is\",\"they'd\": \"they would\", \"they'd've\": \"they would have\",\n",
    "                           \"they'll\": \"they will\", \"they'll've\": \"they will have\", \"they're\": \"they are\", \"they've\": \"they have\", \"to've\": \"to have\",\n",
    "                           \"wasn't\": \"was not\", \"we'd\": \"we would\", \"we'd've\": \"we would have\", \"we'll\": \"we will\", \"we'll've\": \"we will have\", \"we're\": \"we are\",\n",
    "                           \"we've\": \"we have\", \"weren't\": \"were not\", \"what'll\": \"what will\", \"what'll've\": \"what will have\", \"what're\": \"what are\",\n",
    "                           \"what's\": \"what is\", \"what've\": \"what have\", \"when's\": \"when is\", \"when've\": \"when have\", \"where'd\": \"where did\", \"where's\": \"where is\",\n",
    "                           \"where've\": \"where have\", \"who'll\": \"who will\", \"who'll've\": \"who will have\", \"who's\": \"who is\", \"who've\": \"who have\",\n",
    "                           \"why's\": \"why is\", \"why've\": \"why have\", \"will've\": \"will have\", \"won't\": \"will not\", \"won't've\": \"will not have\",\n",
    "                           \"would've\": \"would have\", \"wouldn't\": \"would not\", \"wouldn't've\": \"would not have\", \"y'all\": \"you all\",\n",
    "                           \"y'all'd\": \"you all would\",\"y'all'd've\": \"you all would have\",\"y'all're\": \"you all are\",\"y'all've\": \"you all have\",\n",
    "                           \"you'd\": \"you would\", \"you'd've\": \"you would have\", \"you'll\": \"you will\", \"you'll've\": \"you will have\",\n",
    "                           \"you're\": \"you are\", \"you've\": \"you have\"}"
   ]
  },
  {
   "cell_type": "code",
   "execution_count": null,
   "metadata": {
    "colab": {
     "base_uri": "https://localhost:8080/"
    },
    "id": "Kz5mTIn_8hMj",
    "outputId": "620fd656-a370-46ab-e7ca-bc4a85c83665"
   },
   "outputs": [
    {
     "data": {
      "text/plain": [
       "Index(['Id', 'ProductId', 'UserId', 'ProfileName', 'HelpfulnessNumerator',\n",
       "       'HelpfulnessDenominator', 'Score', 'Time', 'Summary', 'Text'],\n",
       "      dtype='object')"
      ]
     },
     "execution_count": 6,
     "metadata": {},
     "output_type": "execute_result"
    }
   ],
   "source": [
    "data.columns"
   ]
  },
  {
   "cell_type": "code",
   "execution_count": null,
   "metadata": {
    "colab": {
     "base_uri": "https://localhost:8080/",
     "height": 204
    },
    "id": "4aJ1KBOw8irV",
    "outputId": "4cd83a63-53bc-4783-ec10-40f50215e36f"
   },
   "outputs": [
    {
     "data": {
      "text/html": [
       "<div>\n",
       "<style scoped>\n",
       "    .dataframe tbody tr th:only-of-type {\n",
       "        vertical-align: middle;\n",
       "    }\n",
       "\n",
       "    .dataframe tbody tr th {\n",
       "        vertical-align: top;\n",
       "    }\n",
       "\n",
       "    .dataframe thead th {\n",
       "        text-align: right;\n",
       "    }\n",
       "</style>\n",
       "<table border=\"1\" class=\"dataframe\">\n",
       "  <thead>\n",
       "    <tr style=\"text-align: right;\">\n",
       "      <th></th>\n",
       "      <th>Text</th>\n",
       "      <th>Summary</th>\n",
       "    </tr>\n",
       "  </thead>\n",
       "  <tbody>\n",
       "    <tr>\n",
       "      <th>0</th>\n",
       "      <td>I have bought several of the Vitality canned dog food products and have found them all to be of good quality. The product looks more like a stew than a processed meat and it smells better. My Labr...</td>\n",
       "      <td>Good Quality Dog Food</td>\n",
       "    </tr>\n",
       "    <tr>\n",
       "      <th>1</th>\n",
       "      <td>Product arrived labeled as Jumbo Salted Peanuts...the peanuts were actually small sized unsalted. Not sure if this was an error or if the vendor intended to represent the product as \"Jumbo\".</td>\n",
       "      <td>Not as Advertised</td>\n",
       "    </tr>\n",
       "    <tr>\n",
       "      <th>2</th>\n",
       "      <td>This is a confection that has been around a few centuries.  It is a light, pillowy citrus gelatin with nuts - in this case Filberts. And it is cut into tiny squares and then liberally coated with ...</td>\n",
       "      <td>\"Delight\" says it all</td>\n",
       "    </tr>\n",
       "    <tr>\n",
       "      <th>3</th>\n",
       "      <td>If you are looking for the secret ingredient in Robitussin I believe I have found it.  I got this in addition to the Root Beer Extract I ordered (which was good) and made some cherry soda.  The fl...</td>\n",
       "      <td>Cough Medicine</td>\n",
       "    </tr>\n",
       "    <tr>\n",
       "      <th>4</th>\n",
       "      <td>Great taffy at a great price.  There was a wide assortment of yummy taffy.  Delivery was very quick.  If your a taffy lover, this is a deal.</td>\n",
       "      <td>Great taffy</td>\n",
       "    </tr>\n",
       "  </tbody>\n",
       "</table>\n",
       "</div>"
      ],
      "text/plain": [
       "                                                                                                                                                                                                      Text  \\\n",
       "0  I have bought several of the Vitality canned dog food products and have found them all to be of good quality. The product looks more like a stew than a processed meat and it smells better. My Labr...   \n",
       "1           Product arrived labeled as Jumbo Salted Peanuts...the peanuts were actually small sized unsalted. Not sure if this was an error or if the vendor intended to represent the product as \"Jumbo\".   \n",
       "2  This is a confection that has been around a few centuries.  It is a light, pillowy citrus gelatin with nuts - in this case Filberts. And it is cut into tiny squares and then liberally coated with ...   \n",
       "3  If you are looking for the secret ingredient in Robitussin I believe I have found it.  I got this in addition to the Root Beer Extract I ordered (which was good) and made some cherry soda.  The fl...   \n",
       "4                                                             Great taffy at a great price.  There was a wide assortment of yummy taffy.  Delivery was very quick.  If your a taffy lover, this is a deal.   \n",
       "\n",
       "                 Summary  \n",
       "0  Good Quality Dog Food  \n",
       "1      Not as Advertised  \n",
       "2  \"Delight\" says it all  \n",
       "3         Cough Medicine  \n",
       "4            Great taffy  "
      ]
     },
     "execution_count": 7,
     "metadata": {},
     "output_type": "execute_result"
    }
   ],
   "source": [
    "data=data[['Text','Summary']]\n",
    "data.head()"
   ]
  },
  {
   "cell_type": "markdown",
   "metadata": {
    "id": "01YBBko28myi"
   },
   "source": [
    "The following data cleaning will be performed so as to make the data consistent.\n",
    "1. Converting everything to lower case\n",
    "2. Removing any HTML tags(using BeautifulSoup)\n",
    "3. Contraction Mapping with the help of the dictinory\n",
    "4. Removing any text inide paranthesis.\n",
    "5. Remove punctuation marks and special symbols.\n",
    "6. Removing stopwords with the help of nltk.\n"
   ]
  },
  {
   "cell_type": "code",
   "execution_count": null,
   "metadata": {
    "colab": {
     "base_uri": "https://localhost:8080/"
    },
    "id": "TruY1jlX8k0b",
    "outputId": "3b75ba78-e05b-4b3e-8d84-2c13a610201c"
   },
   "outputs": [
    {
     "name": "stderr",
     "output_type": "stream",
     "text": [
      "[nltk_data] Downloading package stopwords to\n",
      "[nltk_data]     C:\\Users\\Rahul\\AppData\\Roaming\\nltk_data...\n",
      "[nltk_data]   Package stopwords is already up-to-date!\n"
     ]
    }
   ],
   "source": [
    "import nltk\n",
    "nltk.download('stopwords')\n",
    "  \n",
    "stop_words = set(stopwords.words('english')) \n",
    "\n",
    "def text_cleaner(text,num):\n",
    "    newString = text.lower()#converting into lower case\n",
    "    newString = BeautifulSoup(newString, \"html.parser\").text #removing html tags\n",
    "    newString = re.sub(r'\\([^)]*\\)', '', newString) #Remove any text inside the parenthesis\n",
    "    newString = re.sub('\"','', newString) # Removes \"\n",
    "    newString = ' '.join([contraction_mapping[t] if t in contraction_mapping else t for t in newString.split(\" \")])  #contraction mapping  \n",
    "    newString = re.sub(r\"'s\\b\",\"\",newString) #Remove (‘s)\n",
    "    newString = re.sub(\"[^a-zA-Z]\", \" \", newString) #all characters except alphabets are removed\n",
    "    newString = re.sub('[m]{2,}', 'mm', newString)\n",
    "    if(num==0):\n",
    "        tokens = [w for w in newString.split() if not w in stop_words] #Removing stopwords\n",
    "    else:\n",
    "        tokens=newString.split()\n",
    "    long_words=[]\n",
    "    for i in tokens:\n",
    "        if len(i)>1:                                                 #removing short word\n",
    "            long_words.append(i)   \n",
    "    return (\" \".join(long_words)).strip()"
   ]
  },
  {
   "cell_type": "code",
   "execution_count": null,
   "metadata": {
    "id": "ADajLEbK8n_1"
   },
   "outputs": [],
   "source": [
    "#call the function\n",
    "cleaned_text = []\n",
    "for t in data['Text']:\n",
    "    cleaned_text.append(text_cleaner(t,0)) "
   ]
  },
  {
   "cell_type": "code",
   "execution_count": null,
   "metadata": {
    "colab": {
     "base_uri": "https://localhost:8080/"
    },
    "id": "xSpJcnkK8phu",
    "outputId": "490798cd-a555-44d3-d612-c2dcd685dea2"
   },
   "outputs": [
    {
     "data": {
      "text/plain": [
       "['bought several vitality canned dog food products found good quality product looks like stew processed meat smells better labrador finicky appreciates product better',\n",
       " 'product arrived labeled jumbo salted peanuts peanuts actually small sized unsalted sure error vendor intended represent product jumbo',\n",
       " 'confection around centuries light pillowy citrus gelatin nuts case filberts cut tiny squares liberally coated powdered sugar tiny mouthful heaven chewy flavorful highly recommend yummy treat familiar story lewis lion witch wardrobe treat seduces edmund selling brother sisters witch',\n",
       " 'looking secret ingredient robitussin believe found got addition root beer extract ordered made cherry soda flavor medicinal',\n",
       " 'great taffy great price wide assortment yummy taffy delivery quick taffy lover deal']"
      ]
     },
     "execution_count": 10,
     "metadata": {},
     "output_type": "execute_result"
    }
   ],
   "source": [
    "cleaned_text[:5]  "
   ]
  },
  {
   "cell_type": "code",
   "execution_count": null,
   "metadata": {
    "id": "8yPFqKtQ8qx1"
   },
   "outputs": [],
   "source": [
    "#call the function\n",
    "cleaned_summary = []\n",
    "for t in data['Summary']:\n",
    "    cleaned_summary.append(text_cleaner(t,1))"
   ]
  },
  {
   "cell_type": "code",
   "execution_count": null,
   "metadata": {
    "colab": {
     "base_uri": "https://localhost:8080/"
    },
    "id": "9MQcdixy8r07",
    "outputId": "4bc80003-07b3-421c-8c80-20ed8abd912c"
   },
   "outputs": [
    {
     "data": {
      "text/plain": [
       "['good quality dog food',\n",
       " 'not as advertised',\n",
       " 'delight says it all',\n",
       " 'cough medicine',\n",
       " 'great taffy',\n",
       " 'nice taffy',\n",
       " 'great just as good as the expensive brands',\n",
       " 'wonderful tasty taffy',\n",
       " 'yay barley',\n",
       " 'healthy dog food']"
      ]
     },
     "execution_count": 12,
     "metadata": {},
     "output_type": "execute_result"
    }
   ],
   "source": [
    "cleaned_summary[:10]"
   ]
  },
  {
   "cell_type": "code",
   "execution_count": null,
   "metadata": {
    "id": "ApAJbJ_28svg"
   },
   "outputs": [],
   "source": [
    "data['cleaned_text']=cleaned_text\n",
    "data['cleaned_summary']=cleaned_summary"
   ]
  },
  {
   "cell_type": "code",
   "execution_count": null,
   "metadata": {
    "id": "zxIwWUxn8uQM"
   },
   "outputs": [],
   "source": [
    "data.replace('', np.nan, inplace=True)\n",
    "data.dropna(axis=0,inplace=True)"
   ]
  },
  {
   "cell_type": "markdown",
   "metadata": {
    "id": "buvQkHCO8yUP"
   },
   "source": [
    "### Understanding the distribution of the sequences\n",
    "\n",
    "Here, we will analyze the length of the reviews and the summary to get an overall idea about the distribution of length of the text. This will help us fix the maximum length of the sequence:"
   ]
  },
  {
   "cell_type": "code",
   "execution_count": null,
   "metadata": {
    "colab": {
     "base_uri": "https://localhost:8080/",
     "height": 281
    },
    "id": "z9AV5GR_8vLo",
    "outputId": "59c13859-64c3-4e93-c9d6-ee029849afc3"
   },
   "outputs": [
    {
     "data": {
      "image/png": "[encoded data removed]",
      "text/plain": [
       "<Figure size 432x288 with 2 Axes>"
      ]
     },
     "metadata": {
      "needs_background": "light"
     },
     "output_type": "display_data"
    }
   ],
   "source": [
    "import matplotlib.pyplot as plt\n",
    "%matplotlib inline\n",
    "text_word_count = []\n",
    "summary_word_count = []\n",
    "\n",
    "# populate the lists with sentence lengths\n",
    "for i in data['cleaned_text']:\n",
    "      text_word_count.append(len(i.split()))\n",
    "\n",
    "for i in data['cleaned_summary']:\n",
    "      summary_word_count.append(len(i.split()))\n",
    "\n",
    "length_df = pd.DataFrame({'text':text_word_count, 'summary':summary_word_count})\n",
    "\n",
    "length_df.hist(bins = 30)\n",
    "plt.show()"
   ]
  },
  {
   "cell_type": "markdown",
   "metadata": {
    "id": "rraAlq4883yh"
   },
   "source": [
    "We can fix the maximum length of the summary to 10 since that seems to be the majority summary length."
   ]
  },
  {
   "cell_type": "code",
   "execution_count": null,
   "metadata": {
    "colab": {
     "base_uri": "https://localhost:8080/"
    },
    "id": "kCiZbUBZ8108",
    "outputId": "2c0ef89f-9bbe-4ccc-9d13-5fe52e8cbf9b"
   },
   "outputs": [
    {
     "name": "stdout",
     "output_type": "stream",
     "text": [
      "0.9801407365398749\n"
     ]
    }
   ],
   "source": [
    "cnt=0\n",
    "for i in data['cleaned_summary']:\n",
    "    if(len(i.split())<=10):\n",
    "        cnt=cnt+1\n",
    "print(cnt/len(data['cleaned_summary']))"
   ]
  },
  {
   "cell_type": "code",
   "execution_count": null,
   "metadata": {
    "id": "RuG48DFN847c"
   },
   "outputs": [],
   "source": [
    "max_text_len=40\n",
    "max_summary_len=10"
   ]
  },
  {
   "cell_type": "markdown",
   "metadata": {
    "id": "B-JLXPjP9DHk"
   },
   "source": [
    "Let us select the reviews and summaries whose length falls below or equal to **max_text_len** and **max_summary_len**"
   ]
  },
  {
   "cell_type": "code",
   "execution_count": null,
   "metadata": {
    "id": "RsBNsxuk86BP"
   },
   "outputs": [],
   "source": [
    "cleaned_text =np.array(data['cleaned_text'])\n",
    "cleaned_summary=np.array(data['cleaned_summary'])\n",
    "\n",
    "short_text=[]\n",
    "short_summary=[]\n",
    "\n",
    "for i in range(len(cleaned_text)):\n",
    "    if(len(cleaned_summary[i].split())<=max_summary_len and len(cleaned_text[i].split())<=max_text_len):\n",
    "        short_text.append(cleaned_text[i])\n",
    "        short_summary.append(cleaned_summary[i])\n",
    "        \n",
    "df=pd.DataFrame({'text':short_text,'summary':short_summary})"
   ]
  },
  {
   "cell_type": "markdown",
   "metadata": {
    "id": "VFyfL3G99F1F"
   },
   "source": [
    "* Add the **START** and **END** special tokens at the beginning and end of the summary. Here, **sostok** and **eostok** is chosen as START and END tokens.\n",
    "* It's important to use sostok and eostok as start and end tokens respectively as later while using tensorflow's Tokenizer will filter the tokens and covert them to lowercase.\n",
    "* So while decoding the summary sequences of sentences like 'good quality dog food' if use _START_ & _END_ tokens (which will make the sentence like 'start good quality dog food end' this) whome tf's tokenizer will convert to start and end then we will stop decoding as we hit first end, so this is bad and therefore sostok & eostok these tokens are used."
   ]
  },
  {
   "cell_type": "code",
   "execution_count": null,
   "metadata": {
    "id": "6fBCEk4s9EZs"
   },
   "outputs": [],
   "source": [
    "df['summary'] = df['summary'].apply(lambda x : 'sostok '+ x + ' eostok')"
   ]
  },
  {
   "cell_type": "code",
   "execution_count": null,
   "metadata": {
    "colab": {
     "base_uri": "https://localhost:8080/"
    },
    "id": "RSY10nOP9Hd2",
    "outputId": "1f6fd10e-4e0a-4b93-fbc9-04b3a1cfcea0"
   },
   "outputs": [
    {
     "data": {
      "text/plain": [
       "array(['bought several vitality canned dog food products found good quality product looks like stew processed meat smells better labrador finicky appreciates product better',\n",
       "       'product arrived labeled jumbo salted peanuts peanuts actually small sized unsalted sure error vendor intended represent product jumbo',\n",
       "       'confection around centuries light pillowy citrus gelatin nuts case filberts cut tiny squares liberally coated powdered sugar tiny mouthful heaven chewy flavorful highly recommend yummy treat familiar story lewis lion witch wardrobe treat seduces edmund selling brother sisters witch',\n",
       "       ...,\n",
       "       'stars small give one training session tried train dog ceaser dog treats made puppy hyper compare ingredients know little stars basic food ingredients without preservatives food coloring sweet potato flavor also make hand smell like dog food',\n",
       "       'best treats training rewarding dog good grooming lower calories loved doggies sweet potatoes seem favorite wet noses treat',\n",
       "       'satisfied product advertised use cereal raw vinegar general sweetner'],\n",
       "      dtype=object)"
      ]
     },
     "execution_count": 20,
     "metadata": {},
     "output_type": "execute_result"
    }
   ],
   "source": [
    "np.array(df['text'])"
   ]
  },
  {
   "cell_type": "code",
   "execution_count": null,
   "metadata": {
    "id": "C8Qqukt49IZx"
   },
   "outputs": [],
   "source": [
    "from sklearn.model_selection import train_test_split\n",
    "x_tr,x_val,y_tr,y_val=train_test_split(np.array(df['text']),np.array(df['summary']),test_size=0.2,random_state=0,shuffle=True) "
   ]
  },
  {
   "cell_type": "markdown",
   "metadata": {
    "id": "BH-CyF-J9Ly8"
   },
   "source": [
    "# Tokenizer"
   ]
  },
  {
   "cell_type": "code",
   "execution_count": null,
   "metadata": {
    "id": "gj9smVW99J9P"
   },
   "outputs": [],
   "source": [
    "from keras.preprocessing.text import Tokenizer \n",
    "from keras.preprocessing.sequence import pad_sequences\n",
    "\n",
    "#prepare a tokenizer for reviews on training data\n",
    "x_tokenizer = Tokenizer() \n",
    "x_tokenizer.fit_on_texts(list(x_tr))"
   ]
  },
  {
   "cell_type": "code",
   "execution_count": null,
   "metadata": {
    "colab": {
     "base_uri": "https://localhost:8080/"
    },
    "id": "W8Ftzq-B9LE1",
    "outputId": "fc2334ac-2b7c-4ed2-c8ad-33b0b75d1a8e"
   },
   "outputs": [
    {
     "name": "stdout",
     "output_type": "stream",
     "text": [
      "% of rare words in vocabulary: 67.69138699466116\n",
      "Total Coverage of rare words: 1.2527577705115032\n"
     ]
    }
   ],
   "source": [
    "thresh=4\n",
    "\n",
    "cnt=0\n",
    "tot_cnt=0\n",
    "freq=0\n",
    "tot_freq=0\n",
    "\n",
    "for key,value in x_tokenizer.word_counts.items():\n",
    "    tot_cnt=tot_cnt+1\n",
    "    tot_freq=tot_freq+value\n",
    "    if(value<thresh):\n",
    "        cnt=cnt+1\n",
    "        freq=freq+value\n",
    "    \n",
    "print(\"% of rare words in vocabulary:\",(cnt/tot_cnt)*100)\n",
    "print(\"Total Coverage of rare words:\",(freq/tot_freq)*100)"
   ]
  },
  {
   "cell_type": "code",
   "execution_count": null,
   "metadata": {
    "id": "BCWz9bwB9OGy"
   },
   "outputs": [],
   "source": [
    "#prepare a tokenizer for reviews on training data\n",
    "x_tokenizer = Tokenizer(num_words=tot_cnt,oov_token=1) \n",
    "x_tokenizer.fit_on_texts(list(x_tr))\n",
    "\n",
    "#convert text sequences into integer sequences \n",
    "x_tr_seq    =   x_tokenizer.texts_to_sequences(x_tr) \n",
    "x_val_seq   =   x_tokenizer.texts_to_sequences(x_val)\n",
    "\n",
    "#padding zero upto maximum length\n",
    "x_tr    =   pad_sequences(x_tr_seq,  maxlen=max_text_len, padding='post')\n",
    "x_val   =   pad_sequences(x_val_seq, maxlen=max_text_len, padding='post')\n",
    "\n",
    "#size of vocabulary ( +1 for padding token)\n",
    "x_voc   =  x_tokenizer.num_words + 1"
   ]
  },
  {
   "cell_type": "code",
   "execution_count": null,
   "metadata": {
    "colab": {
     "base_uri": "https://localhost:8080/"
    },
    "id": "VsBt6atR9P6R",
    "outputId": "18095c24-a695-461a-c982-62aa286e2fc6"
   },
   "outputs": [
    {
     "data": {
      "text/plain": [
       "63498"
      ]
     },
     "execution_count": 25,
     "metadata": {},
     "output_type": "execute_result"
    }
   ],
   "source": [
    "x_voc"
   ]
  },
  {
   "cell_type": "code",
   "execution_count": null,
   "metadata": {
    "id": "Qx0x498L9QzW"
   },
   "outputs": [],
   "source": [
    "#prepare a tokenizer for reviews on training data\n",
    "y_tokenizer = Tokenizer()   \n",
    "y_tokenizer.fit_on_texts(list(y_tr))"
   ]
  },
  {
   "cell_type": "code",
   "execution_count": null,
   "metadata": {
    "colab": {
     "base_uri": "https://localhost:8080/"
    },
    "id": "IsDe_LcU9RsK",
    "outputId": "06fadb22-0e46-4b40-a14a-e248d562650f"
   },
   "outputs": [
    {
     "name": "stdout",
     "output_type": "stream",
     "text": [
      "% of rare words in vocabulary: 75.42996453900709\n",
      "Total Coverage of rare words: 2.384217251527571\n"
     ]
    }
   ],
   "source": [
    "thresh=6\n",
    "\n",
    "cnt=0\n",
    "tot_cnt=0\n",
    "freq=0\n",
    "tot_freq=0\n",
    "\n",
    "for key,value in y_tokenizer.word_counts.items():\n",
    "    tot_cnt=tot_cnt+1\n",
    "    tot_freq=tot_freq+value\n",
    "    if(value<thresh):\n",
    "        cnt=cnt+1\n",
    "        freq=freq+value\n",
    "    \n",
    "print(\"% of rare words in vocabulary:\",(cnt/tot_cnt)*100)\n",
    "print(\"Total Coverage of rare words:\",(freq/tot_freq)*100)"
   ]
  },
  {
   "cell_type": "code",
   "execution_count": null,
   "metadata": {
    "id": "9RMqtGNw9SiY"
   },
   "outputs": [],
   "source": [
    "#prepare a tokenizer for reviews on training data\n",
    "y_tokenizer = Tokenizer(num_words=tot_cnt,oov_token=1) \n",
    "y_tokenizer.fit_on_texts(list(y_tr))\n",
    "\n",
    "#convert text sequences into integer sequences\n",
    "y_tr_seq    =   y_tokenizer.texts_to_sequences(y_tr) \n",
    "y_val_seq   =   y_tokenizer.texts_to_sequences(y_val) \n",
    "\n",
    "#padding zero upto maximum length\n",
    "y_tr    =   pad_sequences(y_tr_seq, maxlen=max_summary_len, padding='post')\n",
    "y_val   =   pad_sequences(y_val_seq, maxlen=max_summary_len, padding='post')\n",
    "\n",
    "#size of vocabulary\n",
    "y_voc  =   y_tokenizer.num_words +1"
   ]
  },
  {
   "cell_type": "code",
   "execution_count": null,
   "metadata": {
    "colab": {
     "base_uri": "https://localhost:8080/"
    },
    "id": "Vc5S-S0E9TlD",
    "outputId": "a09be1ea-f8bf-4504-ab21-0975bd2ad462"
   },
   "outputs": [
    {
     "data": {
      "text/plain": [
       "(215871, 215871)"
      ]
     },
     "execution_count": 29,
     "metadata": {},
     "output_type": "execute_result"
    }
   ],
   "source": [
    "y_tokenizer.word_counts['sostok'],len(y_tr)   "
   ]
  },
  {
   "cell_type": "markdown",
   "metadata": {
    "id": "qoY4F1Hj9V_Y"
   },
   "source": [
    "Deleting the rows that contain only **sostok** and **eostok** tokens"
   ]
  },
  {
   "cell_type": "code",
   "execution_count": null,
   "metadata": {
    "id": "9uC8XpCo9UkY"
   },
   "outputs": [],
   "source": [
    "ind=[]\n",
    "for i in range(len(y_tr)):\n",
    "    cnt=0\n",
    "    for j in y_tr[i]:\n",
    "        if j!=0:\n",
    "            cnt=cnt+1\n",
    "    if(cnt==2):\n",
    "        ind.append(i)\n",
    "\n",
    "y_tr=np.delete(y_tr,ind, axis=0)\n",
    "x_tr=np.delete(x_tr,ind, axis=0)"
   ]
  },
  {
   "cell_type": "code",
   "execution_count": null,
   "metadata": {
    "id": "6R_J4g3X9XVt"
   },
   "outputs": [],
   "source": [
    "ind=[]\n",
    "for i in range(len(y_val)):\n",
    "    cnt=0\n",
    "    for j in y_val[i]:\n",
    "        if j!=0:\n",
    "            cnt=cnt+1\n",
    "    if(cnt==2):\n",
    "        ind.append(i)\n",
    "\n",
    "y_val=np.delete(y_val,ind, axis=0)\n",
    "x_val=np.delete(x_val,ind, axis=0)"
   ]
  },
  {
   "cell_type": "markdown",
   "metadata": {
    "id": "rjcrECIZ9bYW"
   },
   "source": [
    "# Model building"
   ]
  },
  {
   "cell_type": "markdown",
   "metadata": {
    "id": "JHzs9T8ae6Vd"
   },
   "source": [
    "![0_Jpp6WALMjZbjUFjP.png](data:image/png;base64,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)"
   ]
  },
  {
   "cell_type": "markdown",
   "metadata": {
    "id": "_n3_78RYQqGm"
   },
   "source": [
    "![Picture1.png](data:image/png;base64,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)"
   ]
  },
  {
   "cell_type": "code",
   "execution_count": null,
   "metadata": {
    "id": "3p92mSmaV-gK"
   },
   "outputs": [],
   "source": [
    "import tensorflow as tf\n",
    "import os\n",
    "from tensorflow.keras.layers import Layer\n",
    "from tensorflow.keras import backend as K\n",
    "\n",
    "\n",
    "class AttentionLayer(Layer):\n",
    "    \"\"\"\n",
    "    This class implements Bahdanau attention.\n",
    "    There are three sets of weights introduced W_a, U_a, and V_a\n",
    "     \"\"\"\n",
    "\n",
    "    def __init__(self, **kwargs):\n",
    "        super(AttentionLayer, self).__init__(**kwargs)\n",
    "\n",
    "    def build(self, input_shape):\n",
    "        assert isinstance(input_shape, list)\n",
    "        # Create a trainable weight variable for this layer.\n",
    "\n",
    "        self.W_a = self.add_weight(name='W_a',\n",
    "                                   shape=tf.TensorShape((input_shape[0][2], input_shape[0][2])),\n",
    "                                   initializer='uniform',\n",
    "                                   trainable=True)\n",
    "        self.U_a = self.add_weight(name='U_a',\n",
    "                                   shape=tf.TensorShape((input_shape[1][2], input_shape[0][2])),\n",
    "                                   initializer='uniform',\n",
    "                                   trainable=True)\n",
    "        self.V_a = self.add_weight(name='V_a',\n",
    "                                   shape=tf.TensorShape((input_shape[0][2], 1)),\n",
    "                                   initializer='uniform',\n",
    "                                   trainable=True)\n",
    "\n",
    "        super(AttentionLayer, self).build(input_shape)  # we will call this at the end\n",
    "\n",
    "    def call(self, inputs, verbose=False):\n",
    "        \"\"\"\n",
    "        inputs: [encoder_output_sequence, decoder_output_sequence]\n",
    "        \"\"\"\n",
    "        assert type(inputs) == list\n",
    "        encoder_out_seq, decoder_out_seq = inputs\n",
    "        if verbose:\n",
    "            print('encoder_out_seq>', encoder_out_seq.shape)\n",
    "            print('decoder_out_seq>', decoder_out_seq.shape)\n",
    "\n",
    "        def energy_step(inputs, states):\n",
    "            \"\"\" Step function for computing energy for a single decoder state \"\"\"\n",
    "\n",
    "            assert_msg = \"States must be a list. However states {} is of type {}\".format(states, type(states))\n",
    "            assert isinstance(states, list) or isinstance(states, tuple), assert_msg\n",
    "\n",
    "            \"\"\" Some parameters required for shaping tensors\"\"\"\n",
    "            en_seq_len, en_hidden = encoder_out_seq.shape[1], encoder_out_seq.shape[2]\n",
    "            de_hidden = inputs.shape[-1]\n",
    "\n",
    "            \"\"\" Computing S.Wa where S=[s0, s1, ..., si]\"\"\"\n",
    "            # <= batch_size*en_seq_len, latent_dim\n",
    "            reshaped_enc_outputs = K.reshape(encoder_out_seq, (-1, en_hidden))\n",
    "            # <= batch_size*en_seq_len, latent_dim\n",
    "            W_a_dot_s = K.reshape(K.dot(reshaped_enc_outputs, self.W_a), (-1, en_seq_len, en_hidden))\n",
    "            if verbose:\n",
    "                print('wa.s>',W_a_dot_s.shape)\n",
    "\n",
    "            \"\"\" Computing hj.Ua \"\"\"\n",
    "            U_a_dot_h = K.expand_dims(K.dot(inputs, self.U_a), 1)  # <= batch_size, 1, latent_dim\n",
    "            if verbose:\n",
    "                print('Ua.h>',U_a_dot_h.shape)\n",
    "\n",
    "            \"\"\" tanh(S.Wa + hj.Ua) \"\"\"\n",
    "            # <= batch_size*en_seq_len, latent_dim\n",
    "            reshaped_Ws_plus_Uh = K.tanh(K.reshape(W_a_dot_s + U_a_dot_h, (-1, en_hidden)))\n",
    "            if verbose:\n",
    "                print('Ws+Uh>', reshaped_Ws_plus_Uh.shape)\n",
    "\n",
    "            \"\"\" softmax(va.tanh(S.Wa + hj.Ua)) \"\"\" #alpha values\n",
    "            # <= batch_size, en_seq_len\n",
    "            e_i = K.reshape(K.dot(reshaped_Ws_plus_Uh, self.V_a), (-1, en_seq_len))\n",
    "            # <= batch_size, en_seq_len\n",
    "            e_i = K.softmax(e_i)\n",
    "\n",
    "            if verbose:\n",
    "                print('ei>', e_i.shape)\n",
    "\n",
    "            return e_i, [e_i]\n",
    "\n",
    "        def context_step(inputs, states):\n",
    "            \"\"\" Step function for computing ci using ei \"\"\"\n",
    "            # <= batch_size, hidden_size\n",
    "            c_i = K.sum(encoder_out_seq * K.expand_dims(inputs, -1), axis=1)\n",
    "            if verbose:\n",
    "                print('ci>', c_i.shape)\n",
    "            return c_i, [c_i]\n",
    "\n",
    "        def create_inital_state(inputs, hidden_size):\n",
    "            # We are not using initial states, but need to pass something to K.rnn funciton\n",
    "            fake_state = K.zeros_like(inputs)  # <= (batch_size, enc_seq_len, latent_dim\n",
    "            fake_state = K.sum(fake_state, axis=[1, 2])  # <= (batch_size)\n",
    "            fake_state = K.expand_dims(fake_state)  # <= (batch_size, 1)\n",
    "            fake_state = K.tile(fake_state, [1, hidden_size])  # <= (batch_size, latent_dim\n",
    "            return fake_state\n",
    "\n",
    "        fake_state_c = create_inital_state(encoder_out_seq, encoder_out_seq.shape[-1])\n",
    "        fake_state_e = create_inital_state(encoder_out_seq, encoder_out_seq.shape[1])  # <= (batch_size, enc_seq_len, latent_dim\n",
    "\n",
    "        \"\"\" Computing energy outputs \"\"\"\n",
    "        # e_outputs => (batch_size, de_seq_len, en_seq_len)\n",
    "        last_out, e_outputs, _ = K.rnn(\n",
    "            energy_step, decoder_out_seq, [fake_state_e],\n",
    "        )\n",
    "\n",
    "        \"\"\" Computing context vectors \"\"\"\n",
    "        last_out, c_outputs, _ = K.rnn(\n",
    "            context_step, e_outputs, [fake_state_c],\n",
    "        )\n",
    "\n",
    "        return c_outputs, e_outputs\n",
    "\n",
    "    def compute_output_shape(self, input_shape):\n",
    "        \"\"\" Outputs produced by the layer \"\"\"\n",
    "        return [\n",
    "            tf.TensorShape((input_shape[1][0], input_shape[1][1], input_shape[1][2])),\n",
    "            tf.TensorShape((input_shape[1][0], input_shape[1][1], input_shape[0][1]))\n",
    "        ]"
   ]
  },
  {
   "cell_type": "code",
   "execution_count": null,
   "metadata": {
    "colab": {
     "base_uri": "https://localhost:8080/"
    },
    "id": "CkK8s04E9Yrt",
    "outputId": "af43b4f8-0897-41c5-e0d8-2f47093cfdb6"
   },
   "outputs": [
    {
     "name": "stdout",
     "output_type": "stream",
     "text": [
      "WARNING:tensorflow:Layer lstm will not use cuDNN kernels since it doesn't meet the criteria. It will use a generic GPU kernel as fallback when running on GPU.\n",
      "WARNING:tensorflow:Layer lstm_1 will not use cuDNN kernels since it doesn't meet the criteria. It will use a generic GPU kernel as fallback when running on GPU.\n",
      "WARNING:tensorflow:Layer lstm_2 will not use cuDNN kernels since it doesn't meet the criteria. It will use a generic GPU kernel as fallback when running on GPU.\n",
      "WARNING:tensorflow:Layer lstm_3 will not use cuDNN kernels since it doesn't meet the criteria. It will use a generic GPU kernel as fallback when running on GPU.\n",
      "Model: \"model\"\n",
      "__________________________________________________________________________________________________\n",
      "Layer (type)                    Output Shape         Param #     Connected to                     \n",
      "==================================================================================================\n",
      "input_1 (InputLayer)            [(None, 40)]         0                                            \n",
      "__________________________________________________________________________________________________\n",
      "embedding (Embedding)           (None, 40, 100)      6349800     input_1[0][0]                    \n",
      "__________________________________________________________________________________________________\n",
      "lstm (LSTM)                     [(None, 40, 300), (N 481200      embedding[0][0]                  \n",
      "__________________________________________________________________________________________________\n",
      "input_2 (InputLayer)            [(None, None)]       0                                            \n",
      "__________________________________________________________________________________________________\n",
      "lstm_1 (LSTM)                   [(None, 40, 300), (N 721200      lstm[0][0]                       \n",
      "__________________________________________________________________________________________________\n",
      "embedding_1 (Embedding)         (None, None, 100)    2256100     input_2[0][0]                    \n",
      "__________________________________________________________________________________________________\n",
      "lstm_2 (LSTM)                   [(None, 40, 300), (N 721200      lstm_1[0][0]                     \n",
      "__________________________________________________________________________________________________\n",
      "lstm_3 (LSTM)                   [(None, None, 300),  481200      embedding_1[0][0]                \n",
      "                                                                 lstm_2[0][1]                     \n",
      "                                                                 lstm_2[0][2]                     \n",
      "__________________________________________________________________________________________________\n",
      "attention_layer (AttentionLayer ((None, None, 300),  180300      lstm_2[0][0]                     \n",
      "                                                                 lstm_3[0][0]                     \n",
      "__________________________________________________________________________________________________\n",
      "concat_layer (Concatenate)      (None, None, 600)    0           lstm_3[0][0]                     \n",
      "                                                                 attention_layer[0][0]            \n",
      "__________________________________________________________________________________________________\n",
      "time_distributed (TimeDistribut (None, None, 22561)  13559161    concat_layer[0][0]               \n",
      "==================================================================================================\n",
      "Total params: 24,750,161\n",
      "Trainable params: 24,750,161\n",
      "Non-trainable params: 0\n",
      "__________________________________________________________________________________________________\n"
     ]
    }
   ],
   "source": [
    "from keras import backend as K \n",
    "K.clear_session()\n",
    "\n",
    "latent_dim = 300\n",
    "embedding_dim=100\n",
    "\n",
    "# Encoder\n",
    "encoder_inputs = Input(shape=(max_text_len,))\n",
    "\n",
    "#embedding layer\n",
    "enc_emb =  Embedding(x_voc, embedding_dim,trainable=True)(encoder_inputs)\n",
    "\n",
    "#encoder lstm 1\n",
    "encoder_lstm1 = LSTM(latent_dim,return_sequences=True,return_state=True,dropout=0.4,recurrent_dropout=0.4)\n",
    "encoder_output1, state_h1, state_c1 = encoder_lstm1(enc_emb)\n",
    "\n",
    "#encoder lstm 2\n",
    "encoder_lstm2 = LSTM(latent_dim,return_sequences=True,return_state=True,dropout=0.4,recurrent_dropout=0.4)\n",
    "encoder_output2, state_h2, state_c2 = encoder_lstm2(encoder_output1)\n",
    "\n",
    "#encoder lstm 3\n",
    "encoder_lstm3=LSTM(latent_dim, return_state=True, return_sequences=True,dropout=0.4,recurrent_dropout=0.4)\n",
    "encoder_outputs, state_h, state_c= encoder_lstm3(encoder_output2)\n",
    "\n",
    "# Set up the decoder, using `encoder_states` as initial state.\n",
    "decoder_inputs = Input(shape=(None,))\n",
    "\n",
    "#embedding layer\n",
    "dec_emb_layer = Embedding(y_voc, embedding_dim,trainable=True)\n",
    "dec_emb = dec_emb_layer(decoder_inputs)\n",
    "\n",
    "decoder_lstm = LSTM(latent_dim, return_sequences=True, return_state=True,dropout=0.4,recurrent_dropout=0.2)\n",
    "decoder_outputs,decoder_fwd_state, decoder_back_state = decoder_lstm(dec_emb,initial_state=[state_h, state_c])\n",
    "\n",
    "# Attention layer\n",
    "attn_layer = AttentionLayer(name='attention_layer')\n",
    "attn_out, attn_states = attn_layer([encoder_outputs, decoder_outputs])\n",
    "\n",
    "# Concat attention input and decoder LSTM output\n",
    "decoder_concat_input = Concatenate(axis=-1, name='concat_layer')([decoder_outputs, attn_out])\n",
    "\n",
    "#dense layer\n",
    "decoder_dense =  TimeDistributed(Dense(y_voc, activation='softmax'))\n",
    "decoder_outputs = decoder_dense(decoder_concat_input)\n",
    "\n",
    "# Define the model \n",
    "model = Model([encoder_inputs, decoder_inputs], decoder_outputs)\n",
    "\n",
    "model.summary() "
   ]
  },
  {
   "cell_type": "code",
   "execution_count": null,
   "metadata": {
    "id": "MPyGHRVtV-gM"
   },
   "outputs": [],
   "source": [
    "optimizer=tf.keras.optimizers.Adam(learning_rate=0.001)"
   ]
  },
  {
   "cell_type": "code",
   "execution_count": null,
   "metadata": {
    "id": "UngsQX3R9cxh"
   },
   "outputs": [],
   "source": [
    "model.compile(optimizer=optimizer, loss='sparse_categorical_crossentropy')"
   ]
  },
  {
   "cell_type": "code",
   "execution_count": null,
   "metadata": {
    "id": "0zgdQq8H9kNt"
   },
   "outputs": [],
   "source": [
    "es = EarlyStopping(monitor='val_loss', mode='min', verbose=1,patience=2)"
   ]
  },
  {
   "cell_type": "code",
   "execution_count": null,
   "metadata": {
    "id": "8uu6jMU29lQ2"
   },
   "outputs": [],
   "source": [
    "#model.load_weights('checkpoint_model.h5')"
   ]
  },
  {
   "cell_type": "code",
   "execution_count": null,
   "metadata": {
    "id": "y4x5XY-L9mom",
    "outputId": "7f4e1448-5d84-44a6-d213-b62bf802c631"
   },
   "outputs": [
    {
     "name": "stdout",
     "output_type": "stream",
     "text": [
      "Epoch 1/10\n",
      "1687/1687 [==============================] - 776s 460ms/step - loss: 2.1751 - val_loss: 2.0853\n",
      "Epoch 2/10\n",
      "1687/1687 [==============================] - 777s 460ms/step - loss: 1.9670 - val_loss: 1.9652\n",
      "Epoch 3/10\n",
      "1687/1687 [==============================] - 784s 464ms/step - loss: 1.8159 - val_loss: 1.9042\n",
      "Epoch 4/10\n",
      "1687/1687 [==============================] - 792s 469ms/step - loss: 1.7006 - val_loss: 1.8827\n",
      "Epoch 5/10\n",
      "1687/1687 [==============================] - 774s 459ms/step - loss: 1.6073 - val_loss: 1.8773\n",
      "Epoch 6/10\n",
      "1687/1687 [==============================] - 781s 463ms/step - loss: 1.5286 - val_loss: 1.8823\n",
      "Epoch 7/10\n",
      "1687/1687 [==============================] - 781s 463ms/step - loss: 1.4639 - val_loss: 1.8941\n",
      "Epoch 00007: early stopping\n"
     ]
    }
   ],
   "source": [
    "history=model.fit([x_tr,y_tr[:,:-1]], y_tr.reshape(y_tr.shape[0],y_tr.shape[1], 1)[:,1:] ,epochs=10, callbacks=[es],batch_size=128, \n",
    "                  validation_data=([x_val,y_val[:,:-1]], y_val.reshape(y_val.shape[0],y_val.shape[1], 1)[:,1:]))"
   ]
  },
  {
   "cell_type": "markdown",
   "metadata": {
    "id": "ZsGX64P99q1F"
   },
   "source": [
    "#Understanding the Diagnostic plot\n",
    "\n",
    "Now, we will plot a few diagnostic plots to understand the behavior of the model over time:"
   ]
  },
  {
   "cell_type": "code",
   "execution_count": null,
   "metadata": {
    "id": "vFutGofR9oWK"
   },
   "outputs": [],
   "source": [
    "#model.save('checkpoint_model.h5')"
   ]
  },
  {
   "cell_type": "code",
   "execution_count": null,
   "metadata": {
    "id": "W3cY1b3x9tQq",
    "outputId": "e13aaf22-519b-458e-cf24-65f35eb04562"
   },
   "outputs": [
    {
     "data": {
      "image/png": "[encoded data removed]",
      "text/plain": [
       "<Figure size 432x288 with 1 Axes>"
      ]
     },
     "metadata": {
      "needs_background": "light"
     },
     "output_type": "display_data"
    }
   ],
   "source": [
    "from matplotlib import pyplot\n",
    "pyplot.plot(history.history['loss'], label='train')\n",
    "pyplot.plot(history.history['val_loss'], label='test')\n",
    "pyplot.legend()\n",
    "pyplot.show()"
   ]
  },
  {
   "cell_type": "markdown",
   "metadata": {
    "id": "UCTaDULv9wZB"
   },
   "source": [
    "From the plot, we can infer that validation loss has increased after epoch 5 for 2 successive epochs. Hence, training is stopped at epoch 7.\n",
    "\n",
    "Next, let’s build the dictionary to convert the index to word for target and source vocabulary:"
   ]
  },
  {
   "cell_type": "code",
   "execution_count": null,
   "metadata": {
    "id": "NXCLXkvN9uye"
   },
   "outputs": [],
   "source": [
    "reverse_target_word_index=y_tokenizer.index_word\n",
    "reverse_source_word_index=x_tokenizer.index_word\n",
    "target_word_index=y_tokenizer.word_index"
   ]
  },
  {
   "cell_type": "markdown",
   "metadata": {
    "id": "RDWeQFSK9zAc"
   },
   "source": [
    "# Inference\n",
    "\n",
    "Set up the inference for the encoder and decoder:"
   ]
  },
  {
   "cell_type": "code",
   "execution_count": null,
   "metadata": {
    "id": "_LjoEkHh9xcB"
   },
   "outputs": [],
   "source": [
    "# Encode the input sequence to get the feature vector\n",
    "encoder_model = Model(inputs=encoder_inputs,outputs=[encoder_outputs, state_h, state_c])\n",
    "\n",
    "# Decoder setup\n",
    "# Below tensors will hold the states of the previous time step\n",
    "decoder_state_input_h = Input(shape=(latent_dim,))\n",
    "decoder_state_input_c = Input(shape=(latent_dim,))\n",
    "decoder_hidden_state_input = Input(shape=(max_text_len,latent_dim))\n",
    "\n",
    "# Get the embeddings of the decoder sequence\n",
    "dec_emb2= dec_emb_layer(decoder_inputs) \n",
    "# To predict the next word in the sequence, set the initial states to the states from the previous time step\n",
    "decoder_outputs2, state_h2, state_c2 = decoder_lstm(dec_emb2, initial_state=[decoder_state_input_h, decoder_state_input_c])\n",
    "\n",
    "#attention inference\n",
    "attn_out_inf, attn_states_inf = attn_layer([decoder_hidden_state_input, decoder_outputs2])\n",
    "decoder_inf_concat = Concatenate(axis=-1, name='concat')([decoder_outputs2, attn_out_inf])\n",
    "\n",
    "# A dense softmax layer to generate prob dist. over the target vocabulary\n",
    "decoder_outputs2 = decoder_dense(decoder_inf_concat) \n",
    "\n",
    "# Final decoder model\n",
    "decoder_model = Model(\n",
    "    [decoder_inputs] + [decoder_hidden_state_input,decoder_state_input_h, decoder_state_input_c],\n",
    "    [decoder_outputs2] + [state_h2, state_c2])"
   ]
  },
  {
   "cell_type": "markdown",
   "metadata": {
    "id": "9CJQxAT5915M"
   },
   "source": [
    "We are defining a function below which is the implementation of the inference process "
   ]
  },
  {
   "cell_type": "code",
   "execution_count": null,
   "metadata": {
    "id": "u1M0jyCL90bP"
   },
   "outputs": [],
   "source": [
    "def decode_sequence(input_seq):\n",
    "    # Encode the input as state vectors.\n",
    "    e_out, e_h, e_c = encoder_model.predict(input_seq)\n",
    "    \n",
    "    # Generate empty target sequence of length 1.\n",
    "    target_seq = np.zeros((1,1))\n",
    "    \n",
    "    # Populate the first word of target sequence with the start word.\n",
    "    target_seq[0, 0] = target_word_index['sostok']\n",
    "\n",
    "    stop_condition = False\n",
    "    decoded_sentence = ''\n",
    "    while not stop_condition:\n",
    "      \n",
    "        output_tokens, h, c = decoder_model.predict([target_seq] + [e_out, e_h, e_c])\n",
    "\n",
    "        # Sample a token\n",
    "        sampled_token_index = np.argmax(output_tokens[0, -1, :])\n",
    "        sampled_token = reverse_target_word_index[sampled_token_index]\n",
    "        \n",
    "        if(sampled_token!='eostok'):\n",
    "            decoded_sentence += ' '+sampled_token\n",
    "\n",
    "        # Exit condition: either hit max length or find stop word.\n",
    "        if (sampled_token == 'eostok'  or len(decoded_sentence.split()) >= (max_summary_len-1)):\n",
    "            stop_condition = True\n",
    "\n",
    "        # Update the target sequence (of length 1).\n",
    "        target_seq = np.zeros((1,1))\n",
    "        target_seq[0, 0] = sampled_token_index\n",
    "\n",
    "        # Update internal states\n",
    "        e_h, e_c = h, c\n",
    "\n",
    "    return decoded_sentence"
   ]
  },
  {
   "cell_type": "markdown",
   "metadata": {
    "id": "nWQ-qFDD96lN"
   },
   "source": [
    "Let us define the functions to convert an integer sequence to a word sequence for summary as well as the reviews:"
   ]
  },
  {
   "cell_type": "code",
   "execution_count": null,
   "metadata": {
    "id": "WCGLDpvD924f"
   },
   "outputs": [],
   "source": [
    "def seq2summary(input_seq):\n",
    "    newString=''\n",
    "    for i in input_seq:\n",
    "        try:\n",
    "            if((i!=0 and i!=target_word_index['sostok']) and i!=target_word_index['eostok']):\n",
    "                newString=newString+reverse_target_word_index[i]+' '\n",
    "        except(TypeError):\n",
    "            newString=newString+'<unk> '\n",
    "            continue\n",
    "    return newString\n",
    "\n",
    "def seq2text(input_seq):\n",
    "    newString=''\n",
    "    for i in input_seq:\n",
    "        try:\n",
    "            if(i!=0):\n",
    "                newString=newString+reverse_source_word_index[i]+' '\n",
    "        except(TypeError):\n",
    "            newString=newString+'<unk> '\n",
    "            continue\n",
    "    return newString"
   ]
  },
  {
   "cell_type": "markdown",
   "metadata": {
    "id": "bejBANkC9-3h"
   },
   "source": [
    "Here are a few summaries generated by the model:"
   ]
  },
  {
   "cell_type": "code",
   "execution_count": null,
   "metadata": {
    "colab": {
     "base_uri": "https://localhost:8080/"
    },
    "id": "TOyZ4Bt-9450",
    "outputId": "fcccf2d7-ef35-43e4-f30b-10514e5f4266"
   },
   "outputs": [
    {
     "name": "stdout",
     "output_type": "stream",
     "text": [
      "Review: bought researching la tourangelle website reading everything amazon page specifically looking allergy information actually received order found may contain trace amounts tree nuts sesame seeds peanuts amazon accept returns product \n",
      "Original summary: allergy info \n",
      "Predicted summary:  warning contains peanuts\n",
      "\n",
      "\n",
      "Review: strongly horrible tasting enjoying smoothies half greens chia ground flaxseed thrown demand sweet stuff even quarter recommended dosage takes must good new level say new low \n",
      "Original summary: anyone want the rest of mine \n",
      "Predicted summary:  not so good\n",
      "\n",
      "\n",
      "Review: huge fan ruth hemp protein powders blend flax maca get ton great nutrients boost maca use oz almond milk frozen strawberries frozen banana thing powder distinct taste like may find like taste hard pressed find better protein powder market \n",
      "Original summary: an amazing protein energy source \n",
      "Predicted summary:  hemp seeds\n",
      "\n",
      "\n",
      "Review: low sodium product taste salt like good job providing salt like flavor reasonable use priced line salt low sodium products similar quality admittedly limited experience type products \n",
      "Original summary: nu salt product \n",
      "Predicted summary:  great salt\n",
      "\n",
      "\n",
      "Review: reason parents never used shake bake growing thought would give try super easy mess deal tasty seasonings went well pork definitely buy \n",
      "Original summary: pretty good and definitely easy \n",
      "Predicted summary:  great for camping\n",
      "\n",
      "\n",
      "Review: using vinaigrette really taste difference sweet stringent palette traditional balsamic really brings fresh flavors raw veggies pairs beautifully good olive oil worth extra good price amazon \n",
      "Original summary: huge improvement in our dressings \n",
      "Predicted summary:  great taste\n",
      "\n",
      "\n",
      "Review: excellent customer service pleased satisfied outcome order favorite instant coffee \n",
      "Original summary: exclusive gourmet coffee \n",
      "Predicted summary:  excellent service\n",
      "\n",
      "\n",
      "Review: kicks rump worked weeks past amazon return stops working coarse amazon anyway call ask pay ship back exchange another one livestock hot wire keep long get one back interesting one exspensive charger guess money \n",
      "Original summary: days it <unk> \n",
      "Predicted summary:  works great\n",
      "\n",
      "\n",
      "Review: using product years keep finding new items use never disappointed considered good cook item helped add flavor many dishes \n",
      "Original summary: aaa rating \n",
      "Predicted summary:  great product\n",
      "\n",
      "\n",
      "Review: received shipment yeti normally receive shipment final <unk> <unk> saudi arabia within <unk> shipment delayed december th today still receive \n",
      "Original summary: have not received the shipment as yet \n",
      "Predicted summary:  not useable\n",
      "\n",
      "\n"
     ]
    }
   ],
   "source": [
    "for i in range(10):\n",
    "#    try:\n",
    "    print(\"Review:\",seq2text(x_val[i]))\n",
    "    print(\"Original summary:\",seq2summary(y_val[i]))\n",
    "    print(\"Predicted summary:\",decode_sequence(x_val[i].reshape(1,max_text_len)))\n",
    "    print(\"\\n\")\n",
    "#    except:\n",
    "#        continue"
   ]
  },
  {
   "cell_type": "code",
   "execution_count": null,
   "metadata": {
    "id": "5jpL-6qnV-gW"
   },
   "outputs": [],
   "source": []
  }
 ],
 "metadata": {
  "colab": {
   "name": "text_summarizer (1).ipynb",
   "provenance": []
  },
  "kernelspec": {
   "display_name": "Python 3",
   "language": "python",
   "name": "python3"
  },
  "language_info": {
   "codemirror_mode": {
    "name": "ipython",
    "version": 3
   },
   "file_extension": ".py",
   "mimetype": "text/x-python",
   "name": "python",
   "nbconvert_exporter": "python",
   "pygments_lexer": "ipython3",
   "version": "3.6.13"
  }
 },
 "nbformat": 4,
 "nbformat_minor": 1
}
